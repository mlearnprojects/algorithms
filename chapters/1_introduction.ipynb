{
 "cells": [
  {
   "cell_type": "markdown",
   "metadata": {},
   "source": [
    "# What Is Computer Science?\n",
    "\n",
    "**Computer science** is the study of problems, problem-solving, and the solutions that come out of the problem-solving process. Given a problem, a computer scientist’s goal is to develop an algorithm, a step-by-step list of instructions for solving any instance of the problem that might arise. Algorithms are finite processes that if followed will solve the problem. Algorithms are solutions.\n",
    "\n",
    "It is also very common to include the word **computable** when describing problems and solutions. We say that a problem is computable if an algorithm exists for solving it. An alternative definition for computer science, then, is to say that computer science is the study of problems that are and that are not computable, the study of the existence and the nonexistence of algorithms.\n",
    "\n",
    "It is important to be able to distinguish between those problems that have solutions, those that do not, and those where solutions exist but require too much time or other resources to work reasonably."
   ]
  },
  {
   "cell_type": "markdown",
   "metadata": {},
   "source": [
    "# What Is Programming?\n",
    "\n",
    "**Programming** is the process of taking an algorithm and encoding it into a notation, a programming language, so that it can be executed by a computer.\n",
    "\n",
    "**Algorithms** describe the solution to a problem in terms of the data needed to represent the problem instance and the set of steps necessary to produce the intended result. Programming languages must provide a notational way to represent both the process and the data. To this end, languages provide control constructs and data types."
   ]
  },
  {
   "cell_type": "markdown",
   "metadata": {},
   "source": [
    "# Data Structures and Abstract Data Types\n",
    "\n",
    "To manage the complexity of problems and the problem-solving process, computer scientists use **abstractions** to allow them to focus on the “big picture” without getting lost in the details.\n",
    "\n",
    "**procedural abstraction** is a process that hides the details of a particular function to allow the user or client to view it at a very high level.\n",
    "\n",
    "**Abstract data type** (data abstraction) is a logical description of *how* we view the data and the *operations* that are allowed without regard to how they will be implemented. This means that we are concerned only with *what* the data is representing and not with *how* it will eventually be constructed.\n",
    "By providing this *level of abstraction*, we are creating an **encapsulation** around the data.\n",
    "\n",
    "![abtract data type](http://interactivepython.org/runestone/static/pythonds/_images/adt.png)\n",
    "\n",
    "The implementation of an abstract data type, often referred to as a **data structure**, will require that we provide a physical view of the data using some collection of programming constructs and primitive data types."
   ]
  }
 ],
 "metadata": {
  "kernelspec": {
   "display_name": "Python 3",
   "language": "python",
   "name": "python3"
  },
  "language_info": {
   "codemirror_mode": {
    "name": "ipython",
    "version": 3
   },
   "file_extension": ".py",
   "mimetype": "text/x-python",
   "name": "python",
   "nbconvert_exporter": "python",
   "pygments_lexer": "ipython3",
   "version": "3.6.6"
  }
 },
 "nbformat": 4,
 "nbformat_minor": 2
}
