{
 "cells": [
  {
   "cell_type": "markdown",
   "metadata": {},
   "source": [
    "# What Are Linear Structures?\n",
    "\n",
    "Stacks, queues, deques, and lists are data collections whose items are ordered depending on how they are added or removed. Collections such as these are often referred to as **linear data structures**.\n",
    " \n",
    "Linear structures can be thought of as having two ends. Sometimes these ends are referred to as the “left” and the “right” or in some cases the “front” and the “rear.” You could also call them the “top” and the “bottom”. What distinguishes one linear structure from another is the way in which items are added and removed, in particular the location where these additions and removals occur.\n"
   ]
  },
  {
   "cell_type": "markdown",
   "metadata": {},
   "source": [
    "# What is a Stack?\n",
    "\n",
    "A **stack** is an ordered collection of items where the addition of new items and the removal of existing items always takes place *at the same end*. This end is commonly referred to as the “top”. The end opposite the top is known as the “base”.\n",
    "\n",
    "This ordering principle is sometimes called **LIFO**, last-in first-out. It provides an ordering based on length of time in the collection. Newer items are near the top, while older items are near the base.\n",
    "\n",
    "Stacks are fundamentally important, as they can be used to reverse the order of items. The order of insertion is the reverse of the order of removal.\n",
    "\n",
    "![stack](http://interactivepython.org/runestone/static/pythonds/_images/bookstack2.png)\n",
    "\n",
    "For example, as you navigate from web page to web page, the URLs are placed on a stack. The current page that you are viewing is on the top and the first page you looked at is at the base. If you click on the Back button, you begin to move in reverse order through the pages."
   ]
  },
  {
   "cell_type": "markdown",
   "metadata": {},
   "source": [
    "# The Stack Abstract Data Type\n",
    "\n",
    "* **Stack()** creates a new stack that is empty. It needs no parameters and returns an empty stack.\n",
    "* **push(item)** adds a new item to the top of the stack. It needs the item and returns nothing.\n",
    "* **pop()** removes the top item from the stack. It needs no parameters and returns the item. The stack is modified.\n",
    "* **peek()** returns the top item from the stack but does not remove it. It needs no parameters. The stack is not modified.\n",
    "* **isEmpty()** tests to see whether the stack is empty. It needs no parameters and returns a boolean value.\n",
    "* **size()** returns the number of items on the stack. It needs no parameters and returns an integer.\n",
    "\n",
    "[Here](http://interactivepython.org/runestone/static/pythonds/BasicDS/ImplementingaStackinPython.html) is the stack implementation from the book.\n",
    "\n",
    "And here is my implementation:"
   ]
  },
  {
   "cell_type": "code",
   "execution_count": 1,
   "metadata": {},
   "outputs": [],
   "source": [
    "class Stack():\n",
    "    def __init__(self):\n",
    "        self.stack = []\n",
    "        \n",
    "    def __repr__(self):\n",
    "        return repr(self.stack)\n",
    "        \n",
    "    def push(self, item):\n",
    "        self.stack.append(item)\n",
    "        \n",
    "    def pop(self):\n",
    "        if self.stack:\n",
    "            return self.stack.pop()\n",
    "        else:\n",
    "            raise IndexError(\"trying to pop from empty Stack\")\n",
    "    \n",
    "    def peek(self):\n",
    "        if self.stack:\n",
    "            return self.stack[-1]\n",
    "        else:\n",
    "            raise IndexError(\"trying to get the last item of empty Stack\")\n",
    "    \n",
    "    def isEmpty(self):\n",
    "        is_empty = False\n",
    "        if not len(self.stack):\n",
    "            is_empty = True\n",
    "            \n",
    "        return is_empty\n",
    "    \n",
    "    def size(self):\n",
    "        return len(self.stack)\n",
    "    "
   ]
  },
  {
   "cell_type": "markdown",
   "metadata": {},
   "source": [
    "### Exercise 1: String Reversing\n",
    "\n",
    "> Write a function **revstring(mystr)** that uses a stack to *reverse* the characters in a string.\n",
    "\n",
    "___\n",
    "\n",
    "Here is my solution:"
   ]
  },
  {
   "cell_type": "code",
   "execution_count": 2,
   "metadata": {},
   "outputs": [
    {
     "data": {
      "text/plain": [
       "'nohtyp'"
      ]
     },
     "execution_count": 2,
     "metadata": {},
     "output_type": "execute_result"
    }
   ],
   "source": [
    "def revstring(mystr):\n",
    "    stack = Stack()\n",
    "    for char in mystr:\n",
    "        stack.push(char)\n",
    "    \n",
    "    reverseStr = ''\n",
    "    while not stack.isEmpty():\n",
    "        reverseStr += stack.pop()\n",
    "        \n",
    "    return reverseStr\n",
    "\n",
    "revstring('python') # 'nohtyp'"
   ]
  },
  {
   "cell_type": "markdown",
   "metadata": {},
   "source": [
    "### Exercise 2: Simple Balanced Parentheses\n",
    "\n",
    "> Balanced parentheses means that each opening symbol has a corresponding closing symbol and the pairs of parentheses are properly nested. For example `(()()()())` is correctly balanced string. And `(()()(()` is not balanced. The challenge is to write an algorithm that will read a string of parentheses from left to right and decide whether the symbols are balanced.\n",
    "\n",
    "___\n",
    "\n",
    "[Here](http://interactivepython.org/runestone/static/pythonds/BasicDS/SimpleBalancedParentheses.html) is the book solution.\n",
    "\n",
    "And here is my solution (Actually, the solution from the book is more efficient and important):"
   ]
  },
  {
   "cell_type": "code",
   "execution_count": 3,
   "metadata": {},
   "outputs": [
    {
     "data": {
      "text/plain": [
       "True"
      ]
     },
     "execution_count": 3,
     "metadata": {},
     "output_type": "execute_result"
    }
   ],
   "source": [
    "def parChecker(mystr):\n",
    "    is_balanced = False\n",
    "    stack = Stack()\n",
    "    for char in mystr:\n",
    "        if char == '(' or char == ')':\n",
    "            stack.push(char)\n",
    "    \n",
    "    close_par_count = 0\n",
    "    while not stack.isEmpty():\n",
    "        par = stack.pop()\n",
    "        if par == ')':\n",
    "            close_par_count += 1\n",
    "        elif par == '(' and close_par_count:\n",
    "            close_par_count -= 1\n",
    "        else:\n",
    "            break\n",
    "    else:\n",
    "        if not close_par_count:\n",
    "            is_balanced = True\n",
    "              \n",
    "    return is_balanced\n",
    "\n",
    "parChecker('(()()()())') # True"
   ]
  },
  {
   "cell_type": "markdown",
   "metadata": {},
   "source": [
    "### Exercise 3: Balanced Symbols (A General Case)\n",
    "\n",
    "> Extend the simple parentheses checker from the previous exercise to handle `()`, `[]`, and `{}`. \n",
    "For example, this string is balanced: `{ { ( [ ] [ ] ) } ( ) }`.\n",
    "\n",
    "___\n",
    "\n",
    "[Here](http://interactivepython.org/runestone/static/pythonds/BasicDS/BalancedSymbols\\(AGeneralCase\\).html) is the book solution.\n",
    "\n",
    "And here is my solution (the algorithm is taken from the book):"
   ]
  },
  {
   "cell_type": "code",
   "execution_count": 4,
   "metadata": {
    "scrolled": false
   },
   "outputs": [
    {
     "data": {
      "text/plain": [
       "False"
      ]
     },
     "execution_count": 4,
     "metadata": {},
     "output_type": "execute_result"
    }
   ],
   "source": [
    "def parChecker(mystr):\n",
    "    is_balanced = False\n",
    "    pars = dict(zip(['}', ']', ')'], ['{', '[', '(']))\n",
    "    stack = Stack()\n",
    "    \n",
    "    i = 0\n",
    "    str_len = len(mystr)\n",
    "    while i < str_len:\n",
    "        char = mystr[i]\n",
    "        if char in pars.values():\n",
    "            stack.push(char)\n",
    "        elif char in pars:\n",
    "            try:\n",
    "                last = stack.pop()\n",
    "            except IndexError:\n",
    "                break\n",
    "            else:\n",
    "                if last != pars[char]:\n",
    "                    break\n",
    "        i += 1\n",
    "    else:\n",
    "        if stack.isEmpty():\n",
    "            is_balanced = True\n",
    "            \n",
    "    return is_balanced\n",
    "\n",
    "parChecker(\"[{()]\") # False"
   ]
  },
  {
   "cell_type": "markdown",
   "metadata": {},
   "source": [
    "### Exercise 4: Converting Decimal Numbers to Binary Numbers\n",
    "\n",
    ">  Convert integer value into binary number using “Divide by 2” algorithm.\n",
    "\n",
    "___\n",
    "\n",
    "[Here](http://interactivepython.org/runestone/static/pythonds/BasicDS/ConvertingDecimalNumberstoBinaryNumbers.html) is the book solution.\n",
    "\n",
    "And here is my solution:"
   ]
  },
  {
   "cell_type": "code",
   "execution_count": 5,
   "metadata": {},
   "outputs": [
    {
     "data": {
      "text/plain": [
       "'1111'"
      ]
     },
     "execution_count": 5,
     "metadata": {},
     "output_type": "execute_result"
    }
   ],
   "source": [
    "def divideBy2(decimal_num):\n",
    "    stack = Stack()\n",
    "    quotient = decimal_num\n",
    "    while True:\n",
    "        quotient, remainder = quotient // 2, quotient % 2\n",
    "        stack.push(remainder)\n",
    "        \n",
    "        if not quotient:\n",
    "            break\n",
    "            \n",
    "    binary_num = \"\"\n",
    "    while not stack.isEmpty():\n",
    "        binary_num += str(stack.pop())\n",
    "        \n",
    "    return binary_num\n",
    "\n",
    "divideBy2(15) # 1111"
   ]
  },
  {
   "cell_type": "markdown",
   "metadata": {},
   "source": [
    "### Exercise 5: Converting Decimal Numbers to Binary Numbers\n",
    "\n",
    ">  Convert integer value into any base using “Divide by base” algorithm.\n",
    "\n",
    "___\n",
    "\n",
    "[Here](http://interactivepython.org/runestone/static/pythonds/BasicDS/ConvertingDecimalNumberstoBinaryNumbers.html) is the book solution.\n",
    "\n",
    "And here is my solution:"
   ]
  },
  {
   "cell_type": "code",
   "execution_count": 6,
   "metadata": {},
   "outputs": [
    {
     "data": {
      "text/plain": [
       "'e9'"
      ]
     },
     "execution_count": 6,
     "metadata": {},
     "output_type": "execute_result"
    }
   ],
   "source": [
    "def baseConverter(decimal_num, base):\n",
    "    if base > 16:\n",
    "        raise Exception(\"The base mustn't be greater than 16\")\n",
    "        \n",
    "    str_converter = dict(zip(range(0, 16), [str(x) for x in range(0, 10)] + ['a', 'b', 'c', 'd', 'e', 'f']))\n",
    "    stack = Stack()\n",
    "    quotient = decimal_num\n",
    "    while True:\n",
    "        quotient, remainder = quotient // base, quotient % base\n",
    "        stack.push(remainder)\n",
    "        \n",
    "        if not quotient:\n",
    "            break\n",
    "            \n",
    "    binary_num = \"\"\n",
    "    while not stack.isEmpty():\n",
    "        binary_num += str_converter[stack.pop()]\n",
    "        \n",
    "    return binary_num\n",
    "\n",
    "baseConverter(233, 16) # e9"
   ]
  },
  {
   "cell_type": "markdown",
   "metadata": {},
   "source": [
    "### Exercise 6: General Infix-to-Postfix Conversion\n",
    "\n",
    "> Convert any infix expression to a postfix expression. Assume the infix expression is a string of tokens delimited by spaces. The operator tokens are *, /, +, and - (* and / have greater priorities than + and -), along with the left and right parentheses, ( and ). The operand tokens are the single-character identifiers \"A, B, C ...\" or numbers.\n",
    "\n",
    "___\n",
    "\n",
    "In **infix** expression the operator is in *between* the two operands that it is working on. For example: `A + B * C + D`.\n",
    "\n",
    "**Fully parenthesized** expression is an expression that uses one pair of parentheses for each operator. For example: `((A + (B * C)) + D)`.\n",
    "\n",
    "In **prefix** expression notation every operator *precedes* the two operands that it works on. For example: `+ + A * B C D`.\n",
    "\n",
    "In **postfix** expression notation every operator *comes after* the corresponding operands. For example: `A B C * + D +`.\n",
    "\n",
    "Note: although the operators in the prefix and postfix expressions moved and now appear either before or after their respective operands, the *order of the operands stayed* exactly the same relative to one another.\n",
    "\n",
    "___\n",
    "\n",
    "\n",
    "In order to convert an infix expression, no matter how complex, to either prefix or postfix notation, *fully parenthesize* the expression using the order of operations. Then move the enclosed operator to the position of either the *left* or the *right* parenthesis depending on whether you want prefix or postfix notation.\n",
    "\n",
    "![postfix solution](http://interactivepython.org/runestone/static/pythonds/_images/moveright.png)\n",
    "\n",
    "![prefix solution](http://interactivepython.org/runestone/static/pythonds/_images/moveleft.png)\n",
    "\n",
    "___\n"
   ]
  },
  {
   "cell_type": "markdown",
   "metadata": {},
   "source": [
    "[Here](http://interactivepython.org/runestone/static/pythonds/BasicDS/InfixPrefixandPostfixExpressions.html) is the book solution.\n",
    "\n",
    "And here is my solution (it's more verbose than the book solution, but it does its job):"
   ]
  },
  {
   "cell_type": "code",
   "execution_count": 7,
   "metadata": {},
   "outputs": [
    {
     "data": {
      "text/plain": [
       "'A B + C * D E - F G + * -'"
      ]
     },
     "execution_count": 7,
     "metadata": {},
     "output_type": "execute_result"
    }
   ],
   "source": [
    "def getOperators():\n",
    "    # operators with priorities\n",
    "    return {\n",
    "        '/': 3,\n",
    "        '*': 3,\n",
    "        '+': 2,\n",
    "        '-': 2,\n",
    "        '(': 1\n",
    "    }\n",
    "\n",
    "def infixToPostfix(exp):\n",
    "    operators = getOperators()\n",
    "    operand_stack = Stack()\n",
    "    operator_stack = Stack()\n",
    "    for x in exp:\n",
    "        if x.isalnum():\n",
    "            operand_stack.push(x)\n",
    "        elif x == '(':\n",
    "            operator_stack.push(x)\n",
    "        elif x in operators:\n",
    "            try:\n",
    "                previous_operator = operator_stack.peek()\n",
    "            except IndexError:\n",
    "                previous_operator = None\n",
    "            \n",
    "            if previous_operator and operators[x] <= operators[previous_operator]:\n",
    "                operand2 = operand_stack.pop()\n",
    "                operand1 = operand_stack.pop()\n",
    "                operator = operator_stack.pop()\n",
    "                \n",
    "                operand_stack.push(f\"{operand1} {operand2} {operator}\")\n",
    "            \n",
    "            operator_stack.push(x)      \n",
    "        elif x == ')':\n",
    "            par_contents = \"\"\n",
    "            operator = operator_stack.pop()\n",
    "            par_items = []\n",
    "            while operator != '(':\n",
    "                par_items.append(operator)\n",
    "                operand = operand_stack.pop()\n",
    "                par_items.append(operand)\n",
    "                operator = operator_stack.pop()\n",
    "            par_items.append(operand_stack.pop())\n",
    "            par_contents = \" \".join(reversed(par_items))\n",
    "            \n",
    "            operand_stack.push(par_contents)\n",
    "    \n",
    "    while not operator_stack.isEmpty():\n",
    "        operator = operator_stack.pop()\n",
    "        operand2 = operand_stack.pop()\n",
    "        operand1 = operand_stack.pop()\n",
    "\n",
    "        operand_stack.push(f\"{operand1} {operand2} {operator}\")\n",
    "    \n",
    "    return operand_stack.pop()\n",
    "\n",
    "infixToPostfix('( A + B ) * C - ( D - E ) * ( F + G )') # must be 'A B + C * D E - F G + * -'"
   ]
  },
  {
   "cell_type": "markdown",
   "metadata": {},
   "source": [
    "### Exercise 7: Postfix Evaluation\n",
    "\n",
    "> Evaluate postfix expressions. Assume the postfix expression is a string of tokens delimited by spaces. The operators are *, /, +, - and the operands are assumed to be integer values. The output will be an integer result.\n",
    "\n",
    "___\n",
    "\n",
    "[Here](http://interactivepython.org/runestone/static/pythonds/BasicDS/InfixPrefixandPostfixExpressions.html) is the book solution.\n",
    "\n",
    "And here is my solution. This solution looks like the book solution (though the algorithm isn't taken from the book), but it supports not only single-digit numbers."
   ]
  },
  {
   "cell_type": "code",
   "execution_count": 8,
   "metadata": {},
   "outputs": [
    {
     "data": {
      "text/plain": [
       "51"
      ]
     },
     "execution_count": 8,
     "metadata": {},
     "output_type": "execute_result"
    }
   ],
   "source": [
    "import operator\n",
    "\n",
    "def postfixEval(exp):\n",
    "    ops = {\n",
    "        '*': operator.mul,\n",
    "        '/': operator.truediv,\n",
    "        '+': operator.add,\n",
    "        '-': operator.sub\n",
    "    }\n",
    "    \n",
    "    tokens = exp.split()\n",
    "    stack = Stack()\n",
    "    \n",
    "    for token in tokens:\n",
    "        \n",
    "        if not token in ops:\n",
    "            stack.push(int(token))\n",
    "        else:\n",
    "            operand2 = stack.pop()\n",
    "            operand1 = stack.pop()\n",
    "\n",
    "            value = ops[token](operand1, operand2)\n",
    "            stack.push(value)\n",
    "        \n",
    "    return stack.pop()\n",
    "            \n",
    "postfixEval('13 5 + 4 * 5 2 - 6 1 + * -') # 51"
   ]
  }
 ],
 "metadata": {
  "kernelspec": {
   "display_name": "Python 3",
   "language": "python",
   "name": "python3"
  },
  "language_info": {
   "codemirror_mode": {
    "name": "ipython",
    "version": 3
   },
   "file_extension": ".py",
   "mimetype": "text/x-python",
   "name": "python",
   "nbconvert_exporter": "python",
   "pygments_lexer": "ipython3",
   "version": "3.6.6"
  }
 },
 "nbformat": 4,
 "nbformat_minor": 2
}
