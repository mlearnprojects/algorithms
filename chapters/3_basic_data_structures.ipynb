{
 "cells": [
  {
   "cell_type": "markdown",
   "metadata": {},
   "source": [
    "# What Are Linear Structures?\n",
    "\n",
    "Stacks, queues, deques, and lists are data collections whose items are ordered depending on how they are added or removed. Collections such as these are often referred to as **linear data structures**.\n",
    " \n",
    "Linear structures can be thought of as having two ends. Sometimes these ends are referred to as the “left” and the “right” or in some cases the “front” and the “rear.” You could also call them the “top” and the “bottom”. What distinguishes one linear structure from another is the way in which items are added and removed, in particular the location where these additions and removals occur.\n"
   ]
  },
  {
   "cell_type": "markdown",
   "metadata": {},
   "source": [
    "# What is a Stack?\n",
    "\n",
    "A **stack** is an ordered collection of items where the addition of new items and the removal of existing items always takes place *at the same end*. This end is commonly referred to as the “top”. The end opposite the top is known as the “base”.\n",
    "\n",
    "This ordering principle is sometimes called **LIFO**, last-in first-out. It provides an ordering based on length of time in the collection. Newer items are near the top, while older items are near the base.\n",
    "\n",
    "Stacks are fundamentally important, as they can be used to reverse the order of items. The order of insertion is the reverse of the order of removal.\n",
    "\n",
    "![stack](http://interactivepython.org/runestone/static/pythonds/_images/bookstack2.png)\n",
    "\n",
    "For example, as you navigate from web page to web page, the URLs are placed on a stack. The current page that you are viewing is on the top and the first page you looked at is at the base. If you click on the Back button, you begin to move in reverse order through the pages."
   ]
  },
  {
   "cell_type": "markdown",
   "metadata": {},
   "source": [
    "# The Stack Abstract Data Type\n",
    "\n",
    "* **Stack()** creates a new stack that is empty. It needs no parameters and returns an empty stack.\n",
    "* **push(item)** adds a new item to the top of the stack. It needs the item and returns nothing.\n",
    "* **pop()** removes the top item from the stack. It needs no parameters and returns the item. The stack is modified.\n",
    "* **peek()** returns the top item from the stack but does not remove it. It needs no parameters. The stack is not modified.\n",
    "* **isEmpty()** tests to see whether the stack is empty. It needs no parameters and returns a boolean value.\n",
    "* **size()** returns the number of items on the stack. It needs no parameters and returns an integer.\n",
    "\n",
    "[Here](http://interactivepython.org/runestone/static/pythonds/BasicDS/ImplementingaStackinPython.html) is the stack implementation from the book\n",
    "\n",
    "And here is my implementation:"
   ]
  },
  {
   "cell_type": "code",
   "execution_count": 1,
   "metadata": {},
   "outputs": [],
   "source": [
    "class Stack():\n",
    "    def __init__(self):\n",
    "        self.stack = []\n",
    "        \n",
    "    def __repr__(self):\n",
    "        return repr(self.stack)\n",
    "        \n",
    "    def push(self, item):\n",
    "        self.stack.append(item)\n",
    "        \n",
    "    def pop(self):\n",
    "        if self.stack:\n",
    "            return self.stack.pop()\n",
    "        else:\n",
    "            raise IndexError(\"trying to pop from empty Stack\")\n",
    "    \n",
    "    def peek(self):\n",
    "        if self.stack:\n",
    "            return self.stack[-1]\n",
    "        else:\n",
    "            raise IndexError(\"trying to get the last item of empty Stack\")\n",
    "    \n",
    "    def isEmpty(self):\n",
    "        is_empty = False\n",
    "        if not len(self.stack):\n",
    "            is_empty = True\n",
    "            \n",
    "        return is_empty\n",
    "    \n",
    "    def size(self):\n",
    "        return len(self.stack)\n",
    "    "
   ]
  },
  {
   "cell_type": "markdown",
   "metadata": {},
   "source": [
    "### Exercise 1\n",
    "\n",
    "> Write a function **revstring(mystr)** that uses a stack to *reverse* the characters in a string.\n",
    "\n",
    "Here is my solution:"
   ]
  },
  {
   "cell_type": "code",
   "execution_count": 2,
   "metadata": {},
   "outputs": [],
   "source": [
    "def revstring(mystr):\n",
    "    stack = Stack()\n",
    "    for char in mystr:\n",
    "        stack.push(char)\n",
    "    \n",
    "    reverseStr = ''\n",
    "    while not stack.isEmpty():\n",
    "        reverseStr += stack.pop()\n",
    "        \n",
    "    return reverseStr"
   ]
  },
  {
   "cell_type": "markdown",
   "metadata": {},
   "source": [
    "### Exercise 2: Simple Balanced Parentheses\n",
    "\n",
    "> Balanced parentheses means that each opening symbol has a corresponding closing symbol and the pairs of parentheses are properly nested. For example `(()()()())` is correctly balanced string. And `(()()(()` is not balanced. The challenge is to write an algorithm that will read a string of parentheses from left to right and decide whether the symbols are balanced.\n",
    "\n",
    "[Here](http://interactivepython.org/runestone/static/pythonds/BasicDS/SimpleBalancedParentheses.html) is the book solution.\n",
    "\n",
    "And here is my solution (Actually, the solution from the book is more efficient and important):"
   ]
  },
  {
   "cell_type": "code",
   "execution_count": 3,
   "metadata": {},
   "outputs": [],
   "source": [
    "def parChecker(mystr):\n",
    "    is_balanced = False\n",
    "    stack = Stack()\n",
    "    for char in mystr:\n",
    "        if char == '(' or char == ')':\n",
    "            stack.push(char)\n",
    "    \n",
    "    close_par_count = 0\n",
    "    while not stack.isEmpty():\n",
    "        par = stack.pop()\n",
    "        if par == ')':\n",
    "            close_par_count += 1\n",
    "        elif par == '(' and close_par_count:\n",
    "            close_par_count -= 1\n",
    "        else:\n",
    "            break\n",
    "    else:\n",
    "        if not close_par_count:\n",
    "            is_balanced = True\n",
    "              \n",
    "    return is_balanced     "
   ]
  }
 ],
 "metadata": {
  "kernelspec": {
   "display_name": "Python 3",
   "language": "python",
   "name": "python3"
  },
  "language_info": {
   "codemirror_mode": {
    "name": "ipython",
    "version": 3
   },
   "file_extension": ".py",
   "mimetype": "text/x-python",
   "name": "python",
   "nbconvert_exporter": "python",
   "pygments_lexer": "ipython3",
   "version": "3.6.6"
  }
 },
 "nbformat": 4,
 "nbformat_minor": 2
}
